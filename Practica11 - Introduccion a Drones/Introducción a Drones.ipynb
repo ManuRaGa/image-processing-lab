{
 "cells": [
  {
   "cell_type": "markdown",
   "metadata": {
    "id": "itf-GmR37I8Y"
   },
   "source": [
    "## Introducción a Drones\n",
    "En esta practica se aprendera a utilizar drones programables tello a partir de la programación y manipulacion de los mismos."
   ]
  },
  {
   "cell_type": "markdown",
   "metadata": {
    "id": "3pKVWMEh8UVG"
   },
   "source": [
    "El dron TELLO de DJI. Este dron está diseñado para que los usuarios puedan aprender sobre drones con educación de codificación.\n",
    "\n",
    "El dron TELLO tiene dos antenas que hacen que la transmisión de video sea más estable. La batería de alta capacidad ofrece tiempos de vuelo de 13 minutos. La distancia de vuelo es de 100 metros.\n",
    "\n",
    "Gracias a toda la tecnología que incluye Tello, como un controlador de vuelo impulsado por DJI, puedes realizar trucos asombrosos con solo tocar la pantalla del Control.\n",
    "\n",
    "**Caracteristicas**\n",
    "\n",
    "\n",
    "*   Compatibilidad con auriculares VR.\n",
    "*   Tecnología de vuelo DJI.\n",
    "*   Aplicación Tello.\n",
    "*   Compatibilidad del controlador.\n",
    "*   Modo rebote.\n",
    "\n",
    "**Captura de imagenes y video**\n",
    "\n",
    "\n",
    "*   Disparos EZ.\n",
    "*   Estabilización de imagen electrónica.\n",
    "*   Procesador Intel.\n",
    "*   Fotos de 5 megapíxeles.\n",
    "\n",
    "<center><img src=\"Imagenes\\1_1.png\"></center>\n",
    "\n",
    "En este link se encuentra toda la información [Manual de usuario](https://dl-cdn.ryzerobotics.com/downloads/Tello/201806mul/Tello%20User%20Manual%20V1.0_ES.pdf)\n"
   ]
  },
  {
   "cell_type": "markdown",
   "metadata": {
    "id": "ZGMWo1gQM_e5"
   },
   "source": [
    "**Funcionamiento de las elices del Drone**\n",
    "\n",
    "<center><img src=\"Imagenes\\1_2.png\"></center> <center><img src=\"Imagenes\\1_3.png\"></center><center><img src=\"Imagenes\\1_4.png\"></center><center><img src=\"Imagenes\\1_5.png\"></center><center><img src=\"Imagenes\\1_6.png\"></center><center><img src=\"Imagenes\\1_7.png\"></center><center><img src=\"Imagenes\\1_8.png\"></center>"
   ]
  },
  {
   "cell_type": "markdown",
   "metadata": {
    "id": "7bCHbrgKSuoD"
   },
   "source": [
    "**Referencias de apoyo**\n",
    "\n",
    "[Repositorio de libreria](https://github.com/damiafuentes/DJITelloPy/tree/master)\n",
    "\n",
    "[Repositorio resumido](https://github.com/cocpy/Tello-Python)\n",
    "\n",
    "\n",
    "[Manual de comandos](https://dl-cdn.ryzerobotics.com/downloads/tello/20180910/Tello%20SDK%20Documentation%20EN_1.3.pdf)\n"
   ]
  },
  {
   "cell_type": "markdown",
   "metadata": {
    "id": "i53NZPWs7fJs"
   },
   "source": [
    "## Ejercicios\n",
    "\n",
    "<ol>\n",
    "<li>\n",
    "Realizar la conexión del drone con la aplicación y entender los controles del drone realizando movimientos con el mismo.\n",
    "</li>\n",
    "\n",
    "<li>\n",
    "Realizar un programa en python para conectarse con el drone y acceder a la camara del mismo.\n",
    "</li>\n",
    "\n",
    "<li>\n",
    "Realizar un programa en Phyton con el cual se pueda mover el drone desde la computadora haciendo que despeque se mueva y aterrice.\n",
    "</li>\n",
    "\n",
    "</ol>"
   ]
  },
  {
   "cell_type": "markdown",
   "metadata": {
    "id": "L6CdWxCm8Hzl"
   },
   "source": [
    "**1. Realizar la conexión del drone con la aplicación y entender los controles del drone realizando movimientos con el mismo.**"
   ]
  },
  {
   "cell_type": "markdown",
   "metadata": {
    "id": "33-ObOSDNfPp"
   },
   "source": [
    "Descargar la aplicación Tello en el celular y sigue los pasos que te dice la aplicación.\n",
    "\n",
    "<center><img src=\"Imagenes\\2_1.png\"></center><center><img src=\"Imagenes\\2_2.png\"></center>\n"
   ]
  },
  {
   "cell_type": "markdown",
   "metadata": {
    "id": "0_wW4lMG8U8O"
   },
   "source": [
    "**2. Realizar un programa en python para conectarse con el drone y acceder a la camara del mismo.**"
   ]
  },
  {
   "cell_type": "markdown",
   "metadata": {
    "id": "ml7DLiBK8c7W"
   },
   "source": [
    "Crea el codigo necesario para conectarce al drone, imprime en consola la bateria del mismo y conectate a la camara del drone y reescala para que sea de 360x248 y muestra la imagen al precionar la tecla q se debe cerrar la vista de la camara, realiza la conexión del drone y ejecute el codigo."
   ]
  },
  {
   "cell_type": "code",
   "execution_count": null,
   "metadata": {
    "id": "7q5eKCOU8cDx"
   },
   "outputs": [],
   "source": [
    "from djitellopy import tello\n",
    "import cv2 \n",
    "\n",
    "drone = tello.Tello()\n",
    "drone.connect ()\n",
    "\n",
    "print(drone.get_battery())\n",
    "\n",
    "drone.streamon()\n",
    "\n",
    "while True:\n",
    "    img = drone.get_frame_read().frame\n",
    "    img = cv2.resize(img,(360,248))\n",
    "    cv2.imshow(\"Drone\", img)\n",
    "    key = cv2.waitKey(1) & 0xFF\n",
    "    if key == ord('q'):\n",
    "        break"
   ]
  },
  {
   "cell_type": "markdown",
   "metadata": {
    "id": "n1TSnvOb8aYg"
   },
   "source": [
    "**3. Realizar un programa en Phyton con el cual se pueda mover el drone desde la computadora haciendo que despeque se mueva y aterrice.**"
   ]
  },
  {
   "cell_type": "markdown",
   "metadata": {
    "id": "rWe3tixv8hqQ"
   },
   "source": [
    "Complete el codigo faltante, realiza la conexión del drone y ejecute el codigo."
   ]
  },
  {
   "cell_type": "code",
   "execution_count": null,
   "metadata": {
    "id": "ZmhYOxNf8h1_"
   },
   "outputs": [],
   "source": [
    "from djitellopy import tello\n",
    "import time\n",
    "import cv2\n",
    "\n",
    "width = 260\n",
    "height = 248\n",
    "startCounter = 0\n",
    "\n",
    "#Conneccion al drone\n",
    "drone = tello.Tello()\n",
    "drone.connect ()\n",
    "\n",
    "#Mustra la bateria en consola\n",
    "print(drone.get_battery())\n",
    "\n",
    "drone.streamoff()\n",
    "drone.streamon()\n",
    "\n",
    "\n",
    "while True:\n",
    "  #Obten la lmagen de la camara\n",
    "  img = drone.get_frame_read().frame\n",
    "  #Rescarla imagen con los valores de width y height\n",
    "  img = cv2.resize(img, (width,height))\n",
    "\n",
    "  #Cree un condicional donde el drone rote 90 g rados, se mueva a la derecha y luego a la izquierda por cada 3 segundos\n",
    "  if startCounter == 0:\n",
    "    drone.takeoff()\n",
    "    time.sleep(2)\n",
    "    drone.rotate_clockwise(90)\n",
    "    time.sleep(3)\n",
    "    drone.move_left(35)\n",
    "    time.sleep(3)\n",
    "    drone.land()\n",
    "    startCounter = 1\n",
    "\n",
    "  #Muestra la imagen de lo que ve el drone\n",
    "  cv2.imshow(\"Drone\", img)\n",
    "\n",
    "  #Al presionar tecla q aterrice el drone\n",
    "  if cv2.waitKey(1) & 0xFF == ord('q'):\n",
    "    drone.land()\n",
    "    break"
   ]
  }
 ],
 "metadata": {
  "colab": {
   "authorship_tag": "ABX9TyMxy1grDdVz6dLMINSSkB/b",
   "provenance": []
  },
  "kernelspec": {
   "display_name": "Python 3",
   "name": "python3"
  },
  "language_info": {
   "name": "python"
  }
 },
 "nbformat": 4,
 "nbformat_minor": 0
}
