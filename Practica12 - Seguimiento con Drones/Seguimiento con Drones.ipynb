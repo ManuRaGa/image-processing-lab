{
 "cells": [
  {
   "cell_type": "markdown",
   "metadata": {
    "id": "3oyKm8jiCxyS"
   },
   "source": [
    "# Seguimiento con drones\n",
    "En esta practica se generara la programacion del drone aplicando conocimientos de tratamiento de imagenes para identificar hacia donde se tiene que desplazar el drone"
   ]
  },
  {
   "cell_type": "markdown",
   "metadata": {
    "id": "Ct_t61kYDM0r"
   },
   "source": [
    "## Ejercicios\n",
    "\n",
    "<ol>\n",
    "<li>\n",
    "Realizar un progrma en Python con el cual se puedan identificar objetos y que al mover estos objetos la camara de el dron identifique hacia donde tiene que desplazarse sin hacer el desplazamiento.\n",
    "</li>\n",
    "</ol>"
   ]
  },
  {
   "cell_type": "markdown",
   "metadata": {
    "id": "qgxqY8hUYXNQ"
   },
   "source": [
    "**1. Realizar un progrma en Python con el cual se puedan identificar objetos y que al mover estos objetos la camara de el dron identifique hacia donde tiene que desplazarse sin hacer el desplazamiento.**"
   ]
  },
  {
   "cell_type": "markdown",
   "metadata": {
    "id": "0_h8BhArYfe8"
   },
   "source": [
    "Modifica el codigo para que en lugar de hacerlo con una camara abra la camara del drone, realiza la conexión del drone y ejecute el codigo.\n",
    "\n",
    "Una vez que se prueba que se conecta el drone y funciona correctamente la deteccion del objeto seleccionado modificar el codigo para poder iniciar el despegue y manipular el dron con el objeto."
   ]
  },
  {
   "cell_type": "code",
   "execution_count": 12,
   "metadata": {
    "id": "G_z5tkWNYjYK"
   },
   "outputs": [],
   "source": [
    "#Librerias\n",
    "from djitellopy import tello\n",
    "import numpy as np\n",
    "import cv2"
   ]
  },
  {
   "cell_type": "code",
   "execution_count": 14,
   "metadata": {},
   "outputs": [
    {
     "name": "stderr",
     "output_type": "stream",
     "text": [
      "[INFO] tello.py - 129 - Tello instance was initialized. Host: '192.168.10.1'. Port: '8889'.\n",
      "[INFO] tello.py - 438 - Send command: 'command'\n",
      "[INFO] tello.py - 462 - Response command: 'ok'\n",
      "[INFO] tello.py - 438 - Send command: 'streamon'\n",
      "[INFO] tello.py - 462 - Response streamon: 'ok'\n"
     ]
    },
    {
     "name": "stdout",
     "output_type": "stream",
     "text": [
      "87\n"
     ]
    }
   ],
   "source": [
    "#Conneccion al drone\n",
    "drone = tello.Tello()\n",
    "drone.connect()\n",
    "\n",
    "#Mustra la bateria en consola\n",
    "print(drone.get_battery())\n",
    "drone.streamon()"
   ]
  },
  {
   "cell_type": "code",
   "execution_count": null,
   "metadata": {
    "id": "UBP121nOZUAK"
   },
   "outputs": [
    {
     "ename": "KeyboardInterrupt",
     "evalue": "",
     "output_type": "error",
     "traceback": [
      "\u001b[1;31m---------------------------------------------------------------------------\u001b[0m",
      "\u001b[1;31mKeyboardInterrupt\u001b[0m                         Traceback (most recent call last)",
      "Cell \u001b[1;32mIn[15], line 6\u001b[0m\n\u001b[0;32m      4\u001b[0m cap \u001b[38;5;241m=\u001b[39m drone\u001b[38;5;241m.\u001b[39mget_frame_read()\u001b[38;5;241m.\u001b[39mframe\n\u001b[0;32m      5\u001b[0m \u001b[38;5;28;01mwhile\u001b[39;00m \u001b[38;5;28;01mTrue\u001b[39;00m:\n\u001b[1;32m----> 6\u001b[0m     cap \u001b[38;5;241m=\u001b[39m \u001b[43mcv2\u001b[49m\u001b[38;5;241;43m.\u001b[39;49m\u001b[43mresize\u001b[49m\u001b[43m(\u001b[49m\u001b[43mcap\u001b[49m\u001b[43m,\u001b[49m\u001b[43m \u001b[49m\u001b[43m(\u001b[49m\u001b[43mframeWidth\u001b[49m\u001b[43m,\u001b[49m\u001b[43m \u001b[49m\u001b[43mframeHeight\u001b[49m\u001b[43m)\u001b[49m\u001b[43m)\u001b[49m\n\u001b[0;32m      8\u001b[0m     deadZone\u001b[38;5;241m=\u001b[39m\u001b[38;5;241m100\u001b[39m\n\u001b[0;32m      9\u001b[0m     \u001b[38;5;28;01mglobal\u001b[39;00m imgContour\n",
      "\u001b[1;31mKeyboardInterrupt\u001b[0m: "
     ]
    }
   ],
   "source": [
    "#variables\n",
    "frameWidth = 640\n",
    "frameHeight = 480\n",
    "cap = drone.get_frame_read().frame\n",
    "\n",
    "cap.set(3, frameWidth)\n",
    "cap.set(4, frameHeight)\n",
    "\n",
    "deadZone=100\n",
    "global imgContour"
   ]
  },
  {
   "cell_type": "code",
   "execution_count": null,
   "metadata": {
    "id": "SahbfVIZZKI6"
   },
   "outputs": [],
   "source": [
    "#Funcion para trackbar\n",
    "def empty(a):\n",
    "    pass"
   ]
  },
  {
   "cell_type": "code",
   "execution_count": null,
   "metadata": {
    "id": "SuIoxGv_s5sV"
   },
   "outputs": [],
   "source": [
    "#Creacion de Trackbar\n",
    "cv2.namedWindow(\"HSV\")\n",
    "cv2.resizeWindow(\"HSV\",640,240)\n",
    "cv2.createTrackbar(\"HUE Min\",\"HSV\",19,300,empty)\n",
    "cv2.createTrackbar(\"HUE Max\",\"HSV\",35,300,empty)\n",
    "cv2.createTrackbar(\"SAT Min\",\"HSV\",107,255,empty)\n",
    "cv2.createTrackbar(\"SAT Max\",\"HSV\",255,255,empty)\n",
    "cv2.createTrackbar(\"VALUE Min\",\"HSV\",89,255,empty)\n",
    "cv2.createTrackbar(\"VALUE Max\",\"HSV\",255,255,empty)\n",
    "\n",
    "cv2.namedWindow(\"Parameters\")\n",
    "cv2.resizeWindow(\"Parameters\",640,240)\n",
    "cv2.createTrackbar(\"Threshold1\",\"Parameters\",166,255,empty)\n",
    "cv2.createTrackbar(\"Threshold2\",\"Parameters\",171,255,empty)\n",
    "cv2.createTrackbar(\"Area\",\"Parameters\",3750,30000,empty)"
   ]
  },
  {
   "cell_type": "code",
   "execution_count": null,
   "metadata": {
    "id": "3Y_ng0B_nl8e"
   },
   "outputs": [],
   "source": [
    "#Verificacion de imagenes\n",
    "def stackImages(scale,imgArray):\n",
    "    rows = len(imgArray)\n",
    "    cols = len(imgArray[0])\n",
    "    rowsAvailable = isinstance(imgArray[0], list)\n",
    "    width = imgArray[0][0].shape[1]\n",
    "    height = imgArray[0][0].shape[0]\n",
    "    if rowsAvailable:\n",
    "        for x in range ( 0, rows):\n",
    "            for y in range(0, cols):\n",
    "                if imgArray[x][y].shape[:2] == imgArray[0][0].shape [:2]:\n",
    "                    imgArray[x][y] = cv2.resize(imgArray[x][y], (0, 0), None, scale, scale)\n",
    "                else:\n",
    "                    imgArray[x][y] = cv2.resize(imgArray[x][y], (imgArray[0][0].shape[1], imgArray[0][0].shape[0]), None, scale, scale)\n",
    "                if len(imgArray[x][y].shape) == 2: imgArray[x][y]= cv2.cvtColor( imgArray[x][y], cv2.COLOR_GRAY2BGR)\n",
    "        imageBlank = np.zeros((height, width, 3), np.uint8)\n",
    "        hor = [imageBlank]*rows\n",
    "        hor_con = [imageBlank]*rows\n",
    "        for x in range(0, rows):\n",
    "            hor[x] = np.hstack(imgArray[x])\n",
    "        ver = np.vstack(hor)\n",
    "    else:\n",
    "        for x in range(0, rows):\n",
    "            if imgArray[x].shape[:2] == imgArray[0].shape[:2]:\n",
    "                imgArray[x] = cv2.resize(imgArray[x], (0, 0), None, scale, scale)\n",
    "            else:\n",
    "                imgArray[x] = cv2.resize(imgArray[x], (imgArray[0].shape[1], imgArray[0].shape[0]), None,scale, scale)\n",
    "            if len(imgArray[x].shape) == 2: imgArray[x] = cv2.cvtColor(imgArray[x], cv2.COLOR_GRAY2BGR)\n",
    "        hor= np.hstack(imgArray)\n",
    "        ver = hor\n",
    "    return ver"
   ]
  },
  {
   "cell_type": "code",
   "execution_count": 2,
   "metadata": {
    "id": "zhKWEshXsklA"
   },
   "outputs": [],
   "source": [
    "#Busqueda de contornos\n",
    "def getContours(img,imgContour):\n",
    "\n",
    "    contours, hierarchy = cv2.findContours(img, cv2.RETR_EXTERNAL, cv2.CHAIN_APPROX_NONE)\n",
    "    for cnt in contours:\n",
    "        area = cv2.contourArea(cnt)\n",
    "        areaMin = cv2.getTrackbarPos(\"Area\", \"Parameters\")\n",
    "        if area > areaMin:\n",
    "            cv2.drawContours(imgContour, cnt, -1, (255, 0, 255), 7)\n",
    "            peri = cv2.arcLength(cnt, True)\n",
    "            approx = cv2.approxPolyDP(cnt, 0.02 * peri, True)\n",
    "            print(len(approx))\n",
    "            x , y , w, h = cv2.boundingRect(approx)\n",
    "\n",
    "            cx = int(x + (w / 2))\n",
    "            cy = int(y + (h / 2))\n",
    "\n",
    "            if (cx <int(frameWidth/2)-deadZone):\n",
    "                cv2.putText(imgContour, \" GO LEFT \" , (20, 50), cv2.FONT_HERSHEY_COMPLEX,1,(0, 0, 255), 3)\n",
    "                cv2.rectangle(imgContour,(0,int(frameHeight/2-deadZone)),(int(frameWidth/2)-deadZone,int(frameHeight/2)+deadZone),(0,0,255),cv2.FILLED)\n",
    "            elif (cx > int(frameWidth / 2) + deadZone):\n",
    "                cv2.putText(imgContour, \" GO RIGHT \", (20, 50), cv2.FONT_HERSHEY_COMPLEX,1,(0, 0, 255), 3)\n",
    "                cv2.rectangle(imgContour,(int(frameWidth/2+deadZone),int(frameHeight/2-deadZone)),(frameWidth,int(frameHeight/2)+deadZone),(0,0,255),cv2.FILLED)\n",
    "            elif (cy < int(frameHeight / 2) - deadZone):\n",
    "                cv2.putText(imgContour, \" GO UP \", (20, 50), cv2.FONT_HERSHEY_COMPLEX,1,(0, 0, 255), 3)\n",
    "                cv2.rectangle(imgContour,(int(frameWidth/2-deadZone),0),(int(frameWidth/2+deadZone),int(frameHeight/2)-deadZone),(0,0,255),cv2.FILLED)\n",
    "            elif (cy > int(frameHeight / 2) + deadZone):\n",
    "                cv2.putText(imgContour, \" GO DOWN \", (20, 50), cv2.FONT_HERSHEY_COMPLEX, 1,(0, 0, 255), 3)\n",
    "                cv2.rectangle(imgContour,(int(frameWidth/2-deadZone),int(frameHeight/2)+deadZone),(int(frameWidth/2+deadZone),frameHeight),(0,0,255),cv2.FILLED)\n",
    "\n",
    "            cv2.line(imgContour, (int(frameWidth/2),int(frameHeight/2)), (cx,cy),\n",
    "                     (0, 0, 255), 3)\n",
    "            cv2.rectangle(imgContour, (x , y ), (x + w , y + h ), (0, 255, 0), 5)\n",
    "\n",
    "            cv2.putText(imgContour, \"Points: \" + str(len(approx)), (x + w + 20, y + 20), cv2.FONT_HERSHEY_COMPLEX, .7,\n",
    "                        (0, 255, 0), 2)\n",
    "            cv2.putText(imgContour, \"Area: \" + str(int(area)), (x + w + 20, y + 45), cv2.FONT_HERSHEY_COMPLEX, 0.7,\n",
    "                        (0, 255, 0), 2)\n",
    "            cv2.putText(imgContour, \" \" + str(int(x))+ \" \"+str(int(y)), (x - 20, y- 45), cv2.FONT_HERSHEY_COMPLEX, 0.7,\n",
    "                        (0, 255, 0), 2)"
   ]
  },
  {
   "cell_type": "code",
   "execution_count": null,
   "metadata": {
    "id": "vtT5NyeMZN2D"
   },
   "outputs": [],
   "source": [
    "#Funcion para dibujar cuadrantes\n",
    "def display(img):\n",
    "    cv2.line(img,(int(frameWidth/2)-deadZone,0),(int(frameWidth/2)-deadZone,frameHeight),(255,255,0),3)\n",
    "    cv2.line(img,(int(frameWidth/2)+deadZone,0),(int(frameWidth/2)+deadZone,frameHeight),(255,255,0),3)\n",
    "\n",
    "    cv2.circle(img,(int(frameWidth/2),int(frameHeight/2)),5,(0,0,255),5)\n",
    "    cv2.line(img, (0,int(frameHeight / 2) - deadZone), (frameWidth,int(frameHeight / 2) - deadZone), (255, 255, 0), 3)\n",
    "    cv2.line(img, (0, int(frameHeight / 2) + deadZone), (frameWidth, int(frameHeight / 2) + deadZone), (255, 255, 0), 3)"
   ]
  },
  {
   "cell_type": "code",
   "execution_count": null,
   "metadata": {
    "id": "bieMJzqQsrPN"
   },
   "outputs": [],
   "source": [
    "while True:\n",
    "    _, img = cap.read()\n",
    "    if img is None:\n",
    "        break\n",
    "    imgContour = img.copy()\n",
    "    imgHsv = cv2.cvtColor(img,cv2.COLOR_BGR2HSV)\n",
    "\n",
    "    h_min = cv2.getTrackbarPos(\"HUE Min\",\"HSV\")\n",
    "    h_max = cv2.getTrackbarPos(\"HUE Max\", \"HSV\")\n",
    "    s_min = cv2.getTrackbarPos(\"SAT Min\", \"HSV\")\n",
    "    s_max = cv2.getTrackbarPos(\"SAT Max\", \"HSV\")\n",
    "    v_min = cv2.getTrackbarPos(\"VALUE Min\", \"HSV\")\n",
    "    v_max = cv2.getTrackbarPos(\"VALUE Max\", \"HSV\")\n",
    "\n",
    "    lower = np.array([h_min,s_min,v_min])\n",
    "    upper = np.array([h_max,s_max,v_max])\n",
    "    mask = cv2.inRange(imgHsv,lower,upper)\n",
    "    result = cv2.bitwise_and(img,img, mask = mask)\n",
    "    mask = cv2.cvtColor(mask, cv2.COLOR_GRAY2BGR)\n",
    "    wfw = cv2. rsag\n",
    "\n",
    "    imgBlur = cv2.GaussianBlur(result, (7, 7), 1)\n",
    "    imgGray = cv2.cvtColor(imgBlur, cv2.COLOR_BGR2GRAY)\n",
    "    threshold1 = cv2.getTrackbarPos(\"Threshold1\", \"Parameters\")\n",
    "    threshold2 = cv2.getTrackbarPos(\"Threshold2\", \"Parameters\")\n",
    "    imgCanny = cv2.Canny(imgGray, threshold1, threshold2)\n",
    "    kernel = np.ones((5, 5))\n",
    "    imgDil = cv2.dilate(imgCanny, kernel, iterations=1)\n",
    "    getContours(imgDil, imgContour)\n",
    "    display(imgContour)\n",
    "\n",
    "    stack = stackImages(0.7,([img,result],[imgDil,imgContour]))\n",
    "    stack = cv2.cvtColor(stack, cv2.COLOR_BGR2RGB)\n",
    "\n",
    "    cv2.imshow('Horizontal Stacking', stack)\n",
    "    if cv2.waitKey(1) & 0xFF == ord('q'):\n",
    "        #drone.land()\n",
    "        break\n",
    "cap.release()"
   ]
  }
 ],
 "metadata": {
  "colab": {
   "authorship_tag": "ABX9TyM3HyCiX27YtNUqpB+sjKmZ",
   "provenance": []
  },
  "kernelspec": {
   "display_name": "Python 3",
   "name": "python3"
  },
  "language_info": {
   "codemirror_mode": {
    "name": "ipython",
    "version": 3
   },
   "file_extension": ".py",
   "mimetype": "text/x-python",
   "name": "python",
   "nbconvert_exporter": "python",
   "pygments_lexer": "ipython3",
   "version": "3.11.6"
  }
 },
 "nbformat": 4,
 "nbformat_minor": 0
}
