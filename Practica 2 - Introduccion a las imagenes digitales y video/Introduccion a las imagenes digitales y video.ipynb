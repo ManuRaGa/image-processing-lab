{
 "cells": [
  {
   "cell_type": "markdown",
   "metadata": {},
   "source": [
    "# Introducción a las Imagenes Digitales"
   ]
  },
  {
   "attachments": {},
   "cell_type": "markdown",
   "metadata": {},
   "source": [
    "Este <i>notebook</i> ayudará a dar su primer paso en el aprendizaje del Procesamiento de Imágenes y la Visión por Computador usando OpenCV. Se aprenderán lecciones importantes utilizando algunos ejemplos sencillos. En esta práctica, usted aprenderá los siguientes conceptos:\n",
    "<ul>\n",
    "<li>Leer una imagen</li>\n",
    "<li>Comprobar los atributos de la imagen, como el tipo de datos y la forma</li>\n",
    "<li>Visualización de imágenes con matplotlib y OpenCV</li>\n",
    "<li>Guardar una imagen</li>\n",
    "<li>Cargar un video</li>\n",
    "<li>Mostrar un video</li>\n",
    "<li>Acceder a la webcam</li>\n",
    "</ul>\n",
    "\n",
    "## Importar librerías\n",
    "En Python, las bibliotecas se utilizan para referirse a una colección de módulos que se utilizan repetidamente en varios programas sin necesidad de escribirlos desde cero. Los módulos suelen contener código como funciones, clases y sentencias que pueden importarse y utilizarse dentro de otros programas.  "
   ]
  },
  {
   "cell_type": "code",
   "execution_count": 1,
   "metadata": {},
   "outputs": [],
   "source": [
    "import cv2\n",
    "import numpy as np\n",
    "import matplotlib.pyplot as plt\n",
    "%matplotlib inline\n",
    "from IPython.display import Image"
   ]
  },
  {
   "cell_type": "markdown",
   "metadata": {},
   "source": [
    "## Mostrar la imagen directamente\n",
    "La lectura, la visualización y la escritura de imágenes son básicas para el procesamiento de imágenes y la visión por ordenador.  Incluso al recortar, redimensionar, rotar o aplicar diferentes filtros para procesar las imágenes, tendrás que leer primero las imágenes. Por eso es importante que se dominen estas operaciones básicas. Utilizaremos las siguientes imágenes como ejemplo. Utilizaremos la función ipython image para cargar y mostrar la imagen."
   ]
  },
  {
   "cell_type": "code",
   "execution_count": 3,
   "metadata": {},
   "outputs": [
    {
     "data": {
      "image/png": "[encoded data removed]",
      "text/plain": [
       "<IPython.core.display.Image object>"
      ]
     },
     "execution_count": 3,
     "metadata": {},
     "output_type": "execute_result"
    }
   ],
   "source": [
    "# Mostrar imagen de 18x18 pixeles\n",
    "Image(filename='Recursos\\checkerboard_18x18.png')"
   ]
  },
  {
   "cell_type": "code",
   "execution_count": 4,
   "metadata": {},
   "outputs": [
    {
     "data": {
      "image/jpeg": "[encoded data removed]",
      "text/plain": [
       "<IPython.core.display.Image object>"
      ]
     },
     "execution_count": 4,
     "metadata": {},
     "output_type": "execute_result"
    }
   ],
   "source": [
    "# Mostrar imagen de 84x84 pixeles\n",
    "Image(filename='Recursos\\checkerboard_84x84.jpg')"
   ]
  },
  {
   "cell_type": "markdown",
   "metadata": {},
   "source": [
    "### Lectura y Escritura de imagenes en OpenCV\n",
    "OpenCV, la mayor librería de visión por ordenador del mundo tiene estas tres funciones incorporadas:\n",
    "\n",
    "`imread()` nos ayuda a leer una imagen <br>\n",
    "`imshow()` muestra una imagen en una ventana <br>\n",
    "`imwrite()` escribe una imagen en el directorio de archivos <br>\n",
    "\n",
    "## Lectura de Imagenes en OpenCV\n",
    "OpenCV permite leer diferentes tipos de imágenes (JPG, PNG, etc). Puedes cargar imágenes en escala de grises, en color o también puedes cargar imágenes con canal alfa. Utiliza la función **`cv2.imread()`** que tiene la siguiente sintaxis:\n",
    "\n",
    "#### Sintaxis de Función\n",
    "\n",
    "``` python\n",
    "retval = cv2.imread( filename[, flags] )\n",
    "```\n",
    "\n",
    "`retval`: Es la imagen si se ha cargado con éxito. En caso contrario es `None`. Esto puede ocurrir si el nombre del archivo es incorrecto o el archivo está corrupto.\n",
    "\n",
    "La función tiene **1 argumento de entrada requerido** y una bandera opcional:\n",
    "\n",
    "\n",
    "1. `filename`: Puede ser una ruta **absoluta** o **relativa**. Este es un **argumento obligatorio**.\n",
    "2. `flags`:    Estas banderas se utilizan para leer una imagen en un formato determinado (por ejemplo, escala de grises/color/con canal alfa). Este es un **argumento opcional** con un valor por defecto de `cv2.IMREAD_COLOR` o `1` que carga la imagen como una imagen en color.\n",
    "\n",
    "**Banderas**\n",
    "1. **`cv2.IMREAD_GRAYSCALE`** o **`0`**: Carga la imagen en modo escala de grises\n",
    "2. **`cv2.IMREAD_COLOR`** o **`1`**: Carga una imagen en color. Cualquier transparencia de la imagen será ignorada. Es la bandera por defecto.\n",
    "3. **`cv2.IMREAD_UNCHANGED`** o **`-1`**: Carga la imagen como tal, incluyendo el canal alfa."
   ]
  },
  {
   "cell_type": "code",
   "execution_count": 2,
   "metadata": {},
   "outputs": [
    {
     "name": "stdout",
     "output_type": "stream",
     "text": [
      "[[  0   0   0   0   0   0 255 255 255 255 255 255   0   0   0   0   0   0]\n",
      " [  0   0   0   0   0   0 255 255 255 255 255 255   0   0   0   0   0   0]\n",
      " [  0   0   0   0   0   0 255 255 255 255 255 255   0   0   0   0   0   0]\n",
      " [  0   0   0   0   0   0 255 255 255 255 255 255   0   0   0   0   0   0]\n",
      " [  0   0   0   0   0   0 255 255 255 255 255 255   0   0   0   0   0   0]\n",
      " [  0   0   0   0   0   0 255 255 255 255 255 255   0   0   0   0   0   0]\n",
      " [255 255 255 255 255 255   0   0   0   0   0   0 255 255 255 255 255 255]\n",
      " [255 255 255 255 255 255   0   0   0   0   0   0 255 255 255 255 255 255]\n",
      " [255 255 255 255 255 255   0   0   0   0   0   0 255 255 255 255 255 255]\n",
      " [255 255 255 255 255 255   0   0   0   0   0   0 255 255 255 255 255 255]\n",
      " [255 255 255 255 255 255   0   0   0   0   0   0 255 255 255 255 255 255]\n",
      " [255 255 255 255 255 255   0   0   0   0   0   0 255 255 255 255 255 255]\n",
      " [  0   0   0   0   0   0 255 255 255 255 255 255   0   0   0   0   0   0]\n",
      " [  0   0   0   0   0   0 255 255 255 255 255 255   0   0   0   0   0   0]\n",
      " [  0   0   0   0   0   0 255 255 255 255 255 255   0   0   0   0   0   0]\n",
      " [  0   0   0   0   0   0 255 255 255 255 255 255   0   0   0   0   0   0]\n",
      " [  0   0   0   0   0   0 255 255 255 255 255 255   0   0   0   0   0   0]\n",
      " [  0   0   0   0   0   0 255 255 255 255 255 255   0   0   0   0   0   0]]\n"
     ]
    }
   ],
   "source": [
    "cb_img = cv2.imread('Recursos\\checkerboard_18x18.png', cv2.IMREAD_GRAYSCALE)\n",
    "# Imprime los datos de la imagen (valores de los píxeles), elemento de un array 2D numpy.\n",
    "# Cada valor de píxel es de 8 bits [0,255]\n",
    "print(cb_img)"
   ]
  },
  {
   "cell_type": "markdown",
   "metadata": {},
   "source": [
    "### Valor de Pixeles (Profundidad)\n",
    "\n",
    "<img src=\"Demostrativas/Bit_Depth.png\" width=600 height=400 />\n",
    "\n",
    "#### Tipos de imágenes\n",
    "Básicamente existen múltiples tipos de imágenes, pero contemplaremos cuatro tipos típicos:\n",
    "\n",
    "<ul>\n",
    "<li><b>Imagen binaria</b>: Formada únicamente por píxeles blancos y negros, que son 0 para el blanco o 1 para el negro. Este tipo se utiliza a menudo en el procesamiento de imágenes, por ejemplo, en el reconocimiento óptico de caracteres para reconocer letras y texto en imágenes.</li>\n",
    "<li><b>Imagen en blanco y negro</b>: Las imágenes en blanco y negro, especialmente en fotografía, suelen ser imágenes en escala de grises. Esto significa que los píxeles no sólo consisten en el color blanco y negro, sino que cada píxel es un matiz de 256 tonos de gris diferentes.</li>\n",
    "<li><b>Imagen en color de 8 bits</b>: La mayoría de las imágenes digitales en color que se encuentran son imágenes en color de 8 bits. Es el tipo más popular. En las imágenes digitales típicas, cada píxel está formado por un número entero de 8 bits, lo que da lugar a 256 estados posibles.</li>\n",
    "<li><b>Imagen en color de 16 bits</b>: Es una imagen de color más compleja, que no es tan popular como su hermano pequeño, la imagen de color de 8 bits. Llevado 2 a la potencia de 16 conduce a 65536 tonos diferentes de un color para cada canal de color de un píxel.</li>\n",
    "</ul>"
   ]
  },
  {
   "cell_type": "markdown",
   "metadata": {},
   "source": [
    "### Otro Ejemplo"
   ]
  },
  {
   "cell_type": "code",
   "execution_count": 3,
   "metadata": {},
   "outputs": [
    {
     "name": "stdout",
     "output_type": "stream",
     "text": [
      "[[  0   0  15  20   1 134 233 253 253 253 255 229 130   1  29   2   0   0]\n",
      " [  0   1   5  18   0 137 232 255 254 247 255 228 129   0  24   2   0   0]\n",
      " [  7   5   2  28   2 139 230 254 255 249 255 226 128   0  27   3   2   2]\n",
      " [ 25  27  28  38   0 129 236 255 253 249 251 227 129   0  36  27  27  27]\n",
      " [  2   0   0   4   2 130 239 254 254 254 255 230 126   0   4   2   0   0]\n",
      " [132 129 131 124 121 163 211 226 227 225 226 203 164 125 125 129 131 131]\n",
      " [234 227 230 229 232 205 151 115 125 124 117 156 205 232 229 225 228 228]\n",
      " [254 255 255 251 255 222 102   1   0   0   0 120 225 255 254 255 255 255]\n",
      " [254 255 254 255 253 225 104   0  50  46   0 120 233 254 247 253 251 253]\n",
      " [252 250 250 253 254 223 105   2  45  50   0 127 223 255 251 255 251 253]\n",
      " [254 255 255 252 255 226 104   0   1   1   0 120 229 255 255 254 255 255]\n",
      " [233 235 231 233 234 207 142 106 108 102 108 146 207 235 237 232 231 231]\n",
      " [132 132 131 132 130 175 207 223 224 224 224 210 165 134 130 136 134 134]\n",
      " [  1   1   3   0   0 129 238 255 254 252 255 233 126   0   0   0   0   0]\n",
      " [ 20  19  30  40   5 130 236 253 252 249 255 224 129   0  39  23  21  21]\n",
      " [ 12   6   7  27   0 131 234 255 254 250 254 230 123   1  28   5  10  10]\n",
      " [  0   0   9  22   1 133 233 255 253 253 254 230 129   1  26   2   0   0]\n",
      " [  0   0   9  22   1 132 233 255 253 253 254 230 129   1  26   2   0   0]]\n"
     ]
    },
    {
     "data": {
      "text/plain": [
       "<matplotlib.image.AxesImage at 0x20f652c32b0>"
      ]
     },
     "execution_count": 3,
     "metadata": {},
     "output_type": "execute_result"
    },
    {
     "data": {
      "image/png": "[encoded data removed]",
      "text/plain": [
       "<Figure size 640x480 with 1 Axes>"
      ]
     },
     "metadata": {},
     "output_type": "display_data"
    }
   ],
   "source": [
    "cb_img_fuzzy = cv2.imread(\"Recursos/checkerboard_fuzzy_18x18.jpg\",cv2.IMREAD_GRAYSCALE)\n",
    "\n",
    "# print image\n",
    "print(cb_img_fuzzy)\n",
    "\n",
    "# Display image.\n",
    "plt.imshow(cb_img_fuzzy,cmap='gray')"
   ]
  },
  {
   "cell_type": "markdown",
   "metadata": {},
   "source": [
    "## Mostrar atributos de la imagen\n",
    "Para verificar el tamaño y la profundidad de las imagenes mostradas anteriormente, podemos acceder a sus atributos mediante los siguientes comandos."
   ]
  },
  {
   "cell_type": "code",
   "execution_count": 4,
   "metadata": {},
   "outputs": [
    {
     "name": "stdout",
     "output_type": "stream",
     "text": [
      "Tamaño de la imagen es (18, 18)\n",
      "Tipo de dato de la imagen es uint8\n"
     ]
    }
   ],
   "source": [
    "# imprimir el tamaño de la imagen\n",
    "print('Tamaño de la imagen es', cb_img.shape)\n",
    "\n",
    "# imprimir el tipo de dato de la imagen\n",
    "print('Tipo de dato de la imagen es', cb_img.dtype)"
   ]
  },
  {
   "cell_type": "markdown",
   "metadata": {},
   "source": [
    "## Mostrar Imagenes en OpenCV\n",
    "La función **`imshow()`** de OpenCV se utiliza para mostrar una imagen. La sintaxis es la siguiente:\n",
    "\n",
    "#### Sintaxis de Función\n",
    "\n",
    "``` python\n",
    "cv2.imshow(winname, mat)\n",
    "```\n",
    "\n",
    "La función tiene **2 argumentos obligatorio de entrada requeridos**:\n",
    "\n",
    "1. `winname`: especifica el nombre de la ventana que se mostrará en la pantalla.\n",
    "2. `mat`: La imagen que se desea mostrar.\n",
    "\n",
    "Especifique un nuevo nombre de ventana para cada imagen que desee mostrar para mostrar varias fotos a la vez. Las rutinas `waitKey()` y `destroyAllWindows()` / `destroyWindow()` están pensadas para trabajar junto con la función `imshow()`."
   ]
  },
  {
   "cell_type": "markdown",
   "metadata": {},
   "source": [
    "### Funciones auxiliares para mostrado de Imagen\n",
    "#### cv2.waitKey()\n",
    "\n",
    "La función `waitkey()` de Python OpenCV permite a los usuarios mostrar una ventana durante unos milisegundos determinados o hasta que se pulse cualquier tecla. Toma el tiempo en milisegundos como parámetro y espera el tiempo dado para destruir la ventana, si se pasa 0 en el argumento espera hasta que se pulse cualquier tecla.\n",
    "\n",
    "``` python\n",
    "retval = cv2.waitKey(delay)\n",
    "```\n",
    "\n",
    "Si se pasa un valor positivo a la función waitKey(), ésta espera la pulsación de una tecla sólo durante el tiempo especificado por el valor pasado en milisegundos. Si se pulsa alguna tecla durante este periodo, esta función devuelve el valor ASCII de la tecla y su programa continuará. Si no se pulsa ninguna tecla durante este periodo, devolverá -1 y el programa continuará."
   ]
  },
  {
   "cell_type": "code",
   "execution_count": 9,
   "metadata": {},
   "outputs": [
    {
     "name": "stdout",
     "output_type": "stream",
     "text": [
      "1\n",
      "2\n",
      "3\n"
     ]
    },
    {
     "data": {
      "text/plain": [
       "-1"
      ]
     },
     "execution_count": 9,
     "metadata": {},
     "output_type": "execute_result"
    }
   ],
   "source": [
    "print(1)\n",
    "cv2.waitKey(5000)\n",
    "print(2)\n",
    "cv2.waitKey(5000)\n",
    "print(3)\n",
    "cv2.waitKey(5000)"
   ]
  },
  {
   "cell_type": "markdown",
   "metadata": {},
   "source": [
    "#### cv2.destroyWindow()\n",
    "\n",
    "La funcion `destroyWindow()` de Python OpenCV cierra la ventana abierta identificada con el nombre, <i>windowName</i> y desasigna cualquier uso de memoria asociado. Esta función no es esencial para el programa anterior porque cuando el programa sale, el sistema operativo suele cerrar todas las ventanas abiertas y desasignar cualquier uso de memoria asociado.\n",
    "\n",
    "``` python\n",
    "cv2.destroyWindow(winname)\n",
    "```"
   ]
  },
  {
   "cell_type": "code",
   "execution_count": 5,
   "metadata": {},
   "outputs": [],
   "source": [
    "imagen = cv2.imread('Recursos/New_Zealand_Lake.jpg', cv2.IMREAD_COLOR)\n",
    "cv2.imshow('Imagen', imagen)\n",
    "cv2.waitKey(0)\n",
    "cv2.destroyWindow('Imagen')"
   ]
  },
  {
   "attachments": {},
   "cell_type": "markdown",
   "metadata": {},
   "source": [
    "## Almacenamiento de imágenes\n",
    "\n",
    "En OpenCV, guardar una imagen es tan sencillo como leerla. Con dos parámetros, utilizamos la función **`cv2.imwrite()`**. El nombre del archivo es la primera entrada, y el objeto imagen es la segunda.\n",
    "\n",
    "La función `imwrite()` guarda una imagen en un archivo determinado. El formato de la imagen viene determinado por la extensión del nombre del fichero. Esta función sólo puede almacenar fotos de 8 bits de un solo canal o de 3 canales (con orden de canal 'BGR') en general.\n",
    "\n",
    "#### Sintaxis de Función\n",
    "\n",
    "``` python\n",
    "imwrite(filename, mat)\n",
    "```\n",
    "\n",
    "La función tiene **2 argumentos obligatorio de entrada requeridos**:\n",
    "\n",
    "1. `filename`: El nombre del archivo es el primer argumento, y debe incluir la extensión (por ejemplo .png, .jpg, etc.). Esta extensión de nombre de archivo es utilizada por OpenCV para definir el formato del archivo.\n",
    "2. `mat`: La imagen que desea guardar. Si la imagen se guarda con éxito, el método devuelve True."
   ]
  },
  {
   "attachments": {},
   "cell_type": "markdown",
   "metadata": {},
   "source": [
    "## Videos en OpenCV\n",
    "\n",
    "En OpenCV, leer y escribir vídeos es comparable a leer y escribir imágenes. Un vídeo no es más que una colección de imágenes conocidas como fotogramas. Todo lo que tienes que hacer ahora es hacer un bucle sobre todos los fotogramas de una secuencia de vídeo y procesar uno a la vez. En esta práctica mostraremos cómo leer y mostrar vídeos desde un archivo, una secuencia de imágenes y una cámara web.\n",
    "\n",
    "### Utilizar un archivo para leer un vídeo\n",
    "\n",
    "Primero, veamos un ejemplo de código para leer un archivo de vídeo. Esta sección proporciona las rutinas para leer y mostrar una película desde el disco. El siguiente bloque de código crea un objeto **VideoCapture** utilizando la clase `VideoCapture()`, que posteriormente utilizaremos para leer el archivo de vídeo. La siguiente es la sintaxis para utilizar esta clase:\n",
    "\n",
    "``` python\n",
    "object = VideoCapture(filename[, apiPreference])\n",
    "```\n",
    "\n",
    "La función tiene **1 argumento de entrada requerido** y una bandera opcional:\n",
    "\n",
    "\n",
    "1. `filename`: Puede ser una ruta **absoluta** o **relativa** del video. Este es un **argumento obligatorio**.\n",
    "2. `apiReference`:    Estas banderas son las backends para la API de captura que se deseen. Si hay muchos lectores disponibles, esto puede utilizarse para imponer una determinada implementación de lector."
   ]
  },
  {
   "cell_type": "code",
   "execution_count": 6,
   "metadata": {},
   "outputs": [],
   "source": [
    "ruta_fuente = 'Recursos/traffic.mp4'\n",
    "\n",
    "vid_capture = cv2.VideoCapture(ruta_fuente)"
   ]
  },
  {
   "attachments": {},
   "cell_type": "markdown",
   "metadata": {},
   "source": [
    "Podemos utilizar el método `isOpened()` ahora que tenemos un objeto de captura de vídeo para ver si el archivo de vídeo se abrió con éxito. La función `isOpened()` devuelve un **booleano** que indica si el flujo de vídeo es legítimo o no. Se recibirá un aviso de error si no lo hace. Del mensaje de error se pueden deducir muchas cosas. Una de ellas es que todo el vídeo o una parte de él está corrupto.\n",
    "\n",
    "### Metadatos\n",
    "\n",
    "Podemos utilizar la función `get()` para recoger los *metadatos* clave asociados al flujo de vídeo, suponiendo que el archivo de vídeo se haya abierto correctamente. Esta estrategia no es aplicable a las cámaras web.\n",
    "\n",
    "**Banderas**\n",
    "1. **`cv2.CAP_PROP_FRAME_WIDTH`** o **`3`**: Obtiene el ancho de los fotogramas del video.\n",
    "2. **`cv2.CAP_PROP_FRAME_HEIGHT`** o **`4`**: Obtiene la altura de los fotogramas del video.\n",
    "3. **`cv2.CAP_PROP_FPS`** o **`5`**: Obtiene la velocidad de fotogramas de la secuencia de video\n",
    "4. **`cv2.CAP_PROP_FRAME_COUNT`** o **`7`**: Obtiene el numero de fotogramas existentes en el archivo de video."
   ]
  },
  {
   "cell_type": "code",
   "execution_count": 7,
   "metadata": {},
   "outputs": [
    {
     "name": "stdout",
     "output_type": "stream",
     "text": [
      "Resolución del video: 720 x 1280 pixeles\n",
      "Frame Rate: 25 fotogramas por segundo\n",
      "Número de fotogramas: 361.0\n"
     ]
    }
   ],
   "source": [
    "# Verificar si se logró acceder al video\n",
    "if (vid_capture.isOpened() == False):\n",
    "\tprint(\"Error abriendo archivo de video\")\n",
    "else:\n",
    "\t# Obtener metadatos del vdieo\n",
    "\n",
    "\t# Resolucion del video\n",
    "\twidth = int(vid_capture.get(cv2.CAP_PROP_FRAME_WIDTH))\n",
    "\theight = int(vid_capture.get(cv2.CAP_PROP_FRAME_HEIGHT))\n",
    "\tprint(f'Resolución del video: {height} x {width} pixeles')\n",
    "\n",
    "\t# Fotogramas por segundo\n",
    "\tfps = int(vid_capture.get(cv2.CAP_PROP_FPS))\n",
    "\tprint(f'Frame Rate: {fps} fotogramas por segundo')\n",
    "\n",
    "\t# Cantidad de fotogramas\n",
    "\tframe_count = vid_capture.get(7)\n",
    "\tprint(f'Número de fotogramas: {frame_count}')"
   ]
  },
  {
   "attachments": {},
   "cell_type": "markdown",
   "metadata": {},
   "source": [
    "### Mostrar video\n",
    "\n",
    "Ahora estamos listos para leer cada cuadro de la imagen desde el archivo. Esto se consigue creando un bucle y leyendo un fotograma a la vez del flujo de vídeo utilizando el método `vid_capture.read()`.\n",
    "\n",
    "```python\n",
    "retval, frame = vid_capture.read()\n",
    "```\n",
    "\n",
    "`retval`: Es un **booleano** indicando si el fotograma se ha cargado con éxito. Si no se tiene ningun fotograma es `False`.<br>\n",
    "`frame`: Aquí se devuelve el fotograma de vídeo. Si no se ha capturado ningún fotograma, la imagen estará vacía."
   ]
  },
  {
   "cell_type": "code",
   "execution_count": 8,
   "metadata": {},
   "outputs": [],
   "source": [
    "while(vid_capture.isOpened()):\n",
    "    ret, frame = vid_capture.read()\n",
    "    if ret:\n",
    "        cv2.imshow('Video', frame)\n",
    "        key = cv2.waitKey(20)\n",
    "        # Si se presiona la tecla ESC, detener el video\n",
    "        if key == 27:\n",
    "            break\n",
    "    else:\n",
    "        break\n",
    "\n",
    "vid_capture.release()\n",
    "cv2.destroyAllWindows()"
   ]
  },
  {
   "attachments": {},
   "cell_type": "markdown",
   "metadata": {},
   "source": [
    "### Lectura de vídeo de una cámara web\n",
    "\n",
    "La lectura de la señal de vídeo de una cámara web es bastante similar a la de la muestra de un video mediante archivo. Esto gracias a la versatilidad de la clase de captura de vídeo de OpenCV, que tiene múltiples métodos sobrecargados con varios parámetros de entrada para mayor comodidad. Sólo  se tiene que proporcionar un índice de dispositivo de captura de vídeo en lugar de una ubicación de origen para un archivo de vídeo o una secuencia de imágenes.\n",
    "\n",
    "<ul>\n",
    "<li>Si su computadora tiene una cámara web integrada, el índice de dispositivo de la cámara será '0'.</li>\n",
    "<li>Si su computadora tiene más de una cámara conectada, el índice del dispositivo para cada cámara adicional se incrementa (por ejemplo, 1, 2, etc).</li>\n",
    "</ul>"
   ]
  },
  {
   "cell_type": "code",
   "execution_count": 7,
   "metadata": {},
   "outputs": [],
   "source": [
    "# Se crea un objeto de captura de vídeo y se lee la informacion de la webcam.\n",
    "cam = cv2.VideoCapture(0, cv2.CAP_DSHOW)\n",
    "\n",
    "# CAP_DSHOW es otra preferencia de la API de captura de vídeo,\n",
    "# que es la abreviatura de directshow a través de la entrada de vídeo.\n",
    "\n",
    "while(cam.isOpened()):\n",
    "    ret, frame = cam.read()\n",
    "    if ret:\n",
    "        cv2.imshow('Camara web', frame)\n",
    "        key = cv2.waitKey(20)\n",
    "        if key == ord('q'):\n",
    "            break\n",
    "    else:\n",
    "        break\n",
    "\n",
    "cam.release()\n",
    "cv2.destroyAllWindows()"
   ]
  },
  {
   "attachments": {},
   "cell_type": "markdown",
   "metadata": {},
   "source": [
    "## Ejercicios\n",
    "<ol>\n",
    "<li>Diseñe un programa en Python el cual se cumplan los siguientes requisitos:\n",
    "    <ul>\n",
    "    <li>Importar la librería de OpenCV.</il>\n",
    "    <li>Cargar una imagen alojada en el disco duro (escala de grises y a color).</li>\n",
    "    <li>Primero, la imagen debe de ser mostrada en la ventana creada con el nombre \"<i>Ventana 2.1.1</i>\" durante 8 segundos.</li>\n",
    "    <li>Después, la imagen debe de ser mostrada en la ventana creada con el nombre \"<i>Ventada 2.1.2</i>\" hasta que se presione cualquier tecla.</li>\n",
    "    <li>Por último, la imagen debe de ser mostrada en la ventana creada con el nombre \"<i>Ventada 2.1.3</i>\" hasta que se presione la tecla <i>q</i>.</li>\n",
    "    </ul>\n",
    "<br>\n",
    "<li>Diseñe un programa en Python el cual se cumplan los siguientes requisitos:\n",
    "    <ul>\n",
    "    <li>Importar la librería de OpenCV.</il>\n",
    "    <li>Cargar un video alojado en el disco duro.</li>\n",
    "    <li>El video debe de ser mostrado en la ventana creada con el nombre \"<i>Ejercicio 2.2</i>\" hasta que se presione una tecla o se termine el video.</li>\n",
    "    </ul>\n",
    "<br>\n",
    "<li>Diseñe un programa en Python el cual se cumplan los siguientes requisitos:\n",
    "    <ul>\n",
    "    <li>Importar la librería de OpenCV.</il>\n",
    "    <li>Obtenga la captura de video de una cámara web conectada a la computadora (interna o externa).</li>\n",
    "    <li>La captura de video debe de ser mostrado en la ventana creada con el nombre \"<i>Ejercicio 2.3</i>\" hasta que se presione la tecla <i>ESC</i>.</li>\n",
    "    </ul>\n",
    "</ol>"
   ]
  }
 ],
 "metadata": {
  "kernelspec": {
   "display_name": "Python 3",
   "language": "python",
   "name": "python3"
  },
  "language_info": {
   "codemirror_mode": {
    "name": "ipython",
    "version": 3
   },
   "file_extension": ".py",
   "mimetype": "text/x-python",
   "name": "python",
   "nbconvert_exporter": "python",
   "pygments_lexer": "ipython3",
   "version": "3.9.0"
  },
  "orig_nbformat": 4,
  "vscode": {
   "interpreter": {
    "hash": "de336e41325f8ff0bcafa6c3119e4f989b99fea42c6a97e2e3829613305fdc00"
   }
  }
 },
 "nbformat": 4,
 "nbformat_minor": 2
}
